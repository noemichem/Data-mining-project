{
 "cells": [
  {
   "cell_type": "code",
   "execution_count": 7,
   "id": "cd20f340",
   "metadata": {},
   "outputs": [
    {
     "name": "stdout",
     "output_type": "stream",
     "text": [
      "Original DataFrame:\n",
      "                 track_id                                         track_name  \\\n",
      "0  6f807x0ima9a1j3VPbc7VN  I Don't Care (with Justin Bieber) - Loud Luxur...   \n",
      "1  0r7CVbZTWZgbTCYdfa2P31                    Memories - Dillon Francis Remix   \n",
      "2  1z1Hg7Vb0AhHDiEmnDE79l                    All the Time - Don Diablo Remix   \n",
      "3  75FpbthrwQmzHlBJLuGdC7                  Call You Mine - Keanu Silva Remix   \n",
      "4  1e8PAfcKUYoKkxPhrHqw4x            Someone You Loved - Future Humans Remix   \n",
      "\n",
      "       track_artist  track_popularity          track_album_id  \\\n",
      "0        Ed Sheeran                66  2oCs0DGTsRO98Gh5ZSl2Cx   \n",
      "1          Maroon 5                67  63rPSO264uRjW1X5E6cWv6   \n",
      "2      Zara Larsson                70  1HoSmj2eLcsrR0vE9gThr4   \n",
      "3  The Chainsmokers                60  1nqYsOef1yKKuGOVchbsk6   \n",
      "4     Lewis Capaldi                69  7m7vv9wlQ4i0LFuJiE2zsQ   \n",
      "\n",
      "                                    track_album_name track_album_release_date  \\\n",
      "0  I Don't Care (with Justin Bieber) [Loud Luxury...               2019-06-14   \n",
      "1                    Memories (Dillon Francis Remix)               2019-12-13   \n",
      "2                    All the Time (Don Diablo Remix)               2019-07-05   \n",
      "3                        Call You Mine - The Remixes               2019-07-19   \n",
      "4            Someone You Loved (Future Humans Remix)               2019-03-05   \n",
      "\n",
      "  playlist_name             playlist_id playlist_genre  ... key  loudness  \\\n",
      "0     Pop Remix  37i9dQZF1DXcZDD7cfEKhW            pop  ...   6    -2.634   \n",
      "1     Pop Remix  37i9dQZF1DXcZDD7cfEKhW            pop  ...  11    -4.969   \n",
      "2     Pop Remix  37i9dQZF1DXcZDD7cfEKhW            pop  ...   1    -3.432   \n",
      "3     Pop Remix  37i9dQZF1DXcZDD7cfEKhW            pop  ...   7    -3.778   \n",
      "4     Pop Remix  37i9dQZF1DXcZDD7cfEKhW            pop  ...   1    -4.672   \n",
      "\n",
      "   mode  speechiness  acousticness  instrumentalness  liveness  valence  \\\n",
      "0     1       0.0583        0.1020          0.000000    0.0653    0.518   \n",
      "1     1       0.0373        0.0724          0.004210    0.3570    0.693   \n",
      "2     0       0.0742        0.0794          0.000023    0.1100    0.613   \n",
      "3     1       0.1020        0.0287          0.000009    0.2040    0.277   \n",
      "4     1       0.0359        0.0803          0.000000    0.0833    0.725   \n",
      "\n",
      "     tempo  duration_ms  \n",
      "0  122.036       194754  \n",
      "1   99.972       162600  \n",
      "2  124.008       176616  \n",
      "3  121.956       169093  \n",
      "4  123.976       189052  \n",
      "\n",
      "[5 rows x 23 columns]\n",
      "\n",
      "DataFrame after dropping specified columns:\n",
      "                 track_id                                         track_name  \\\n",
      "0  6f807x0ima9a1j3VPbc7VN  I Don't Care (with Justin Bieber) - Loud Luxur...   \n",
      "1  0r7CVbZTWZgbTCYdfa2P31                    Memories - Dillon Francis Remix   \n",
      "2  1z1Hg7Vb0AhHDiEmnDE79l                    All the Time - Don Diablo Remix   \n",
      "3  75FpbthrwQmzHlBJLuGdC7                  Call You Mine - Keanu Silva Remix   \n",
      "4  1e8PAfcKUYoKkxPhrHqw4x            Someone You Loved - Future Humans Remix   \n",
      "\n",
      "       track_artist  track_popularity track_album_release_date playlist_genre  \\\n",
      "0        Ed Sheeran                66               2019-06-14            pop   \n",
      "1          Maroon 5                67               2019-12-13            pop   \n",
      "2      Zara Larsson                70               2019-07-05            pop   \n",
      "3  The Chainsmokers                60               2019-07-19            pop   \n",
      "4     Lewis Capaldi                69               2019-03-05            pop   \n",
      "\n",
      "  playlist_subgenre  danceability  energy  key  loudness  mode  speechiness  \\\n",
      "0         dance pop         0.748   0.916    6    -2.634     1       0.0583   \n",
      "1         dance pop         0.726   0.815   11    -4.969     1       0.0373   \n",
      "2         dance pop         0.675   0.931    1    -3.432     0       0.0742   \n",
      "3         dance pop         0.718   0.930    7    -3.778     1       0.1020   \n",
      "4         dance pop         0.650   0.833    1    -4.672     1       0.0359   \n",
      "\n",
      "   acousticness  instrumentalness  liveness  valence    tempo  duration_ms  \n",
      "0        0.1020          0.000000    0.0653    0.518  122.036       194754  \n",
      "1        0.0724          0.004210    0.3570    0.693   99.972       162600  \n",
      "2        0.0794          0.000023    0.1100    0.613  124.008       176616  \n",
      "3        0.0287          0.000009    0.2040    0.277  121.956       169093  \n",
      "4        0.0803          0.000000    0.0833    0.725  123.976       189052  \n",
      "\n",
      "Modified DataFrame saved to modified_spotify_songs.csv\n"
     ]
    }
   ],
   "source": [
    "#Deleting unneccessary features from the spofify_songs.csv dataset which are: 'track_album_id', 'playlist_name', 'playlist_id'\n",
    "import pandas as pd\n",
    "\n",
    "# Load the dataset\n",
    "file_path = 'spotify_songs.csv'  # Update this path if your file is located elsewhere\n",
    "df = pd.read_csv(file_path)\n",
    "\n",
    "# Display the first few rows of the dataframe to understand its structure (optional)\n",
    "print(\"Original DataFrame:\")\n",
    "print(df.head())\n",
    "\n",
    "# Delete the specified columns\n",
    "columns_to_delete = ['track_album_name','track_album_id', 'playlist_name', 'playlist_id']\n",
    "df.drop(columns=columns_to_delete, inplace=True)\n",
    "\n",
    "# Display the first few rows of the modified dataframe to verify changes (optional)\n",
    "print(\"\\nDataFrame after dropping specified columns:\")\n",
    "print(df.head())\n",
    "\n",
    "# Optionally, save the modified dataframe to a new CSV file\n",
    "output_file_path = 'modified_spotify_songs.csv'\n",
    "df.to_csv(output_file_path, index=False)\n",
    "\n",
    "print(f\"\\nModified DataFrame saved to {output_file_path}\")\n"
   ]
  },
  {
   "cell_type": "code",
   "execution_count": null,
   "id": "61a9e577",
   "metadata": {},
   "outputs": [],
   "source": []
  },
  {
   "cell_type": "code",
   "execution_count": null,
   "id": "6881755a",
   "metadata": {},
   "outputs": [],
   "source": []
  },
  {
   "cell_type": "code",
   "execution_count": 8,
   "id": "f14be896",
   "metadata": {},
   "outputs": [
    {
     "name": "stdout",
     "output_type": "stream",
     "text": [
      "Unique playlist genres:\n",
      "['pop' 'rap' 'rock' 'latin' 'r&b' 'edm']\n",
      "\n",
      "Unique playlist subgenres:\n",
      "['dance pop' 'post-teen pop' 'electropop' 'indie poptimism' 'hip hop'\n",
      " 'southern hip hop' 'gangster rap' 'trap' 'album rock' 'classic rock'\n",
      " 'permanent wave' 'hard rock' 'tropical' 'latin pop' 'reggaeton'\n",
      " 'latin hip hop' 'urban contemporary' 'hip pop' 'new jack swing'\n",
      " 'neo soul' 'electro house' 'big room' 'pop edm'\n",
      " 'progressive electro house']\n"
     ]
    }
   ],
   "source": [
    "#see all the possible playlist_genre and playlist_subgenre values\n",
    "file_path = 'modified_spotify_songs.csv'  # Update this path if your file is located elsewhere\n",
    "df = pd.read_csv(file_path)\n",
    "\n",
    "# Get unique values in 'playlist_genre' and 'playlist_subgenre' columns\n",
    "unique_genres = df['playlist_genre'].unique()\n",
    "unique_subgenres = df['playlist_subgenre'].unique()\n",
    "\n",
    "# Display the unique values\n",
    "print(\"Unique playlist genres:\")\n",
    "print(unique_genres)\n",
    "\n",
    "print(\"\\nUnique playlist subgenres:\")\n",
    "print(unique_subgenres)"
   ]
  },
  {
   "cell_type": "code",
   "execution_count": 9,
   "id": "e0e3e47b",
   "metadata": {},
   "outputs": [
    {
     "name": "stdout",
     "output_type": "stream",
     "text": [
      "Highest track popularity value: 100\n",
      "Lowest track popularity value: 0\n"
     ]
    }
   ],
   "source": [
    "# Get the highest and lowest track popularity values\n",
    "highest_popularity = df['track_popularity'].max()\n",
    "lowest_popularity = df['track_popularity'].min()\n",
    "\n",
    "# Display the results\n",
    "print(f\"Highest track popularity value: {highest_popularity}\")\n",
    "print(f\"Lowest track popularity value: {lowest_popularity}\")"
   ]
  },
  {
   "cell_type": "code",
   "execution_count": 10,
   "id": "f5083584",
   "metadata": {},
   "outputs": [],
   "source": [
    "import matplotlib.pyplot as plt"
   ]
  },
  {
   "cell_type": "code",
   "execution_count": 12,
   "id": "000517a8",
   "metadata": {},
   "outputs": [
    {
     "data": {
      "image/png": "[encoded data removed]",
      "text/plain": [
       "<Figure size 1000x600 with 1 Axes>"
      ]
     },
     "metadata": {},
     "output_type": "display_data"
    }
   ],
   "source": [
    "#seeing the distribution of the song by track_popularity\n",
    "# Define the bin edges for 10% increments\n",
    "bins = [i for i in range(0, 101, 10)]\n",
    "\n",
    "# Create the histogram\n",
    "plt.figure(figsize=(10, 6))\n",
    "plt.hist(df['track_popularity'], bins=bins, edgecolor='black', alpha=0.7)\n",
    "\n",
    "# Add titles and labels\n",
    "plt.title('Distribution of Track Popularity in 10% Increments')\n",
    "plt.xlabel('Track Popularity')\n",
    "plt.ylabel('Number of Songs')\n",
    "plt.xticks(bins)  # Set the x-ticks to match the bin edges\n",
    "\n",
    "# Show the plot\n",
    "plt.grid(axis='y', linestyle='--', alpha=0.7)\n",
    "plt.show()"
   ]
  },
  {
   "cell_type": "raw",
   "id": "0a859266",
   "metadata": {},
   "source": []
  },
  {
   "cell_type": "code",
   "execution_count": null,
   "id": "ae83c61d",
   "metadata": {},
   "outputs": [],
   "source": []
  },
  {
   "cell_type": "code",
   "execution_count": null,
   "id": "6821977c",
   "metadata": {},
   "outputs": [],
   "source": []
  },
  {
   "cell_type": "code",
   "execution_count": 18,
   "id": "f9ee7be2",
   "metadata": {},
   "outputs": [
    {
     "name": "stdout",
     "output_type": "stream",
     "text": [
      "DataFrame after deleting songs with track_popularity=0:\n",
      "                     track_id  \\\n",
      "0      6f807x0ima9a1j3VPbc7VN   \n",
      "1      0r7CVbZTWZgbTCYdfa2P31   \n",
      "2      1z1Hg7Vb0AhHDiEmnDE79l   \n",
      "3      75FpbthrwQmzHlBJLuGdC7   \n",
      "4      1e8PAfcKUYoKkxPhrHqw4x   \n",
      "...                       ...   \n",
      "32828  7bxnKAamR3snQ1VGLuVfC1   \n",
      "32829  5Aevni09Em4575077nkWHz   \n",
      "32830  7ImMqPP3Q1yfUHvsdn7wEo   \n",
      "32831  2m69mhnfQ1Oq6lGtXuYhgX   \n",
      "32832  29zWqhca3zt5NsckZqDf6c   \n",
      "\n",
      "                                              track_name      track_artist  \\\n",
      "0      I Don't Care (with Justin Bieber) - Loud Luxur...        Ed Sheeran   \n",
      "1                        Memories - Dillon Francis Remix          Maroon 5   \n",
      "2                        All the Time - Don Diablo Remix      Zara Larsson   \n",
      "3                      Call You Mine - Keanu Silva Remix  The Chainsmokers   \n",
      "4                Someone You Loved - Future Humans Remix     Lewis Capaldi   \n",
      "...                                                  ...               ...   \n",
      "32828               City Of Lights - Official Radio Edit      Lush & Simon   \n",
      "32829                Closer - Sultan & Ned Shepard Remix    Tegan and Sara   \n",
      "32830                       Sweet Surrender - Radio Edit       Starkillers   \n",
      "32831                     Only For You - Maor Levi Remix            Mat Zo   \n",
      "32832                             Typhoon - Original Mix      Julian Calor   \n",
      "\n",
      "       track_popularity track_album_release_date playlist_genre  \\\n",
      "0                    66               2019-06-14            pop   \n",
      "1                    67               2019-12-13            pop   \n",
      "2                    70               2019-07-05            pop   \n",
      "3                    60               2019-07-19            pop   \n",
      "4                    69               2019-03-05            pop   \n",
      "...                 ...                      ...            ...   \n",
      "32828                42               2014-04-28            edm   \n",
      "32829                20               2013-03-08            edm   \n",
      "32830                14               2014-04-21            edm   \n",
      "32831                15               2014-01-01            edm   \n",
      "32832                27               2014-03-03            edm   \n",
      "\n",
      "               playlist_subgenre  danceability  energy  key  loudness  mode  \\\n",
      "0                      dance pop         0.748   0.916    6    -2.634     1   \n",
      "1                      dance pop         0.726   0.815   11    -4.969     1   \n",
      "2                      dance pop         0.675   0.931    1    -3.432     0   \n",
      "3                      dance pop         0.718   0.930    7    -3.778     1   \n",
      "4                      dance pop         0.650   0.833    1    -4.672     1   \n",
      "...                          ...           ...     ...  ...       ...   ...   \n",
      "32828  progressive electro house         0.428   0.922    2    -1.814     1   \n",
      "32829  progressive electro house         0.522   0.786    0    -4.462     1   \n",
      "32830  progressive electro house         0.529   0.821    6    -4.899     0   \n",
      "32831  progressive electro house         0.626   0.888    2    -3.361     1   \n",
      "32832  progressive electro house         0.603   0.884    5    -4.571     0   \n",
      "\n",
      "       speechiness  acousticness  instrumentalness  liveness  valence  \\\n",
      "0           0.0583      0.102000          0.000000    0.0653   0.5180   \n",
      "1           0.0373      0.072400          0.004210    0.3570   0.6930   \n",
      "2           0.0742      0.079400          0.000023    0.1100   0.6130   \n",
      "3           0.1020      0.028700          0.000009    0.2040   0.2770   \n",
      "4           0.0359      0.080300          0.000000    0.0833   0.7250   \n",
      "...            ...           ...               ...       ...      ...   \n",
      "32828       0.0936      0.076600          0.000000    0.0668   0.2100   \n",
      "32829       0.0420      0.001710          0.004270    0.3750   0.4000   \n",
      "32830       0.0481      0.108000          0.000001    0.1500   0.4360   \n",
      "32831       0.1090      0.007920          0.127000    0.3430   0.3080   \n",
      "32832       0.0385      0.000133          0.341000    0.7420   0.0894   \n",
      "\n",
      "         tempo  duration_ms  \n",
      "0      122.036       194754  \n",
      "1       99.972       162600  \n",
      "2      124.008       176616  \n",
      "3      121.956       169093  \n",
      "4      123.976       189052  \n",
      "...        ...          ...  \n",
      "32828  128.170       204375  \n",
      "32829  128.041       353120  \n",
      "32830  127.989       210112  \n",
      "32831  128.008       367432  \n",
      "32832  127.984       337500  \n",
      "\n",
      "[30130 rows x 19 columns]\n"
     ]
    }
   ],
   "source": [
    "#delete all the songs with track_popularity=0\n",
    "\n",
    "# Filter the DataFrame to remove songs with track_popularity=0\n",
    "df = df[df['track_popularity'] != 0]\n",
    "\n",
    "# Display the updated DataFrame\n",
    "print(\"DataFrame after deleting songs with track_popularity=0:\")\n",
    "print(df)"
   ]
  },
  {
   "cell_type": "code",
   "execution_count": null,
   "id": "d121d8c1",
   "metadata": {},
   "outputs": [],
   "source": []
  },
  {
   "cell_type": "code",
   "execution_count": null,
   "id": "c198cf24",
   "metadata": {},
   "outputs": [],
   "source": []
  },
  {
   "cell_type": "code",
   "execution_count": 37,
   "id": "9b5f1b58",
   "metadata": {},
   "outputs": [],
   "source": [
    "#with the songs of having same track_name and same track_artist delete the one with the lowest track_popularity. \n",
    "\n",
    "\n",
    "# Sort the dataframe by track_popularity in descending order\n",
    "df.sort_values(by='track_popularity', ascending=False, inplace=True)\n",
    "\n",
    "# Drop duplicates based on track_name and track_artist, keeping the first occurrence (highest track_popularity)\n",
    "df.drop_duplicates(subset=['track_name', 'track_artist'], keep='first', inplace=True)\n",
    "\n",
    "# Save the modified dataframe to a new CSV file\n",
    "df.to_csv('modified_spotify_songs_unique.csv', index=False)\n"
   ]
  },
  {
   "cell_type": "code",
   "execution_count": 38,
   "id": "05401677",
   "metadata": {},
   "outputs": [
    {
     "name": "stdout",
     "output_type": "stream",
     "text": [
      "Songs with Track Name 'Cool' and Track Artist 'Alesso':\n",
      "                    track_id track_name track_artist  track_popularity  \\\n",
      "5881  2ToIksTPpJ4csKPEOdUEyM       Cool       Alesso                60   \n",
      "\n",
      "     track_album_release_date playlist_genre          playlist_subgenre  \\\n",
      "5881               2015-05-26            edm  progressive electro house   \n",
      "\n",
      "      danceability  energy  key  loudness  mode  speechiness  acousticness  \\\n",
      "5881         0.537   0.848    6    -2.431     0       0.0313        0.0365   \n",
      "\n",
      "      instrumentalness  liveness  valence    tempo  duration_ms  \n",
      "5881               0.0     0.423    0.498  128.023       221400  \n"
     ]
    }
   ],
   "source": [
    "#check if there will be more than one element with same track_name and track_artist that we used to have before \n",
    "\n",
    "# Filter the DataFrame for songs with track_name \"Dynamite\" and track_artist \"Gareth Emery\"\n",
    "file_path = 'modified_spotify_songs_unique.csv'  # Update this path if your file is located elsewhere\n",
    "df = pd.read_csv(file_path)\n",
    "\n",
    "filtered_df = df[(df['track_name'] == 'Cool') & (df['track_artist'] == 'Alesso')]\n",
    "\n",
    "# Display the filtered DataFrame\n",
    "print(\"Songs with Track Name 'Cool' and Track Artist 'Alesso':\")\n",
    "print(filtered_df)"
   ]
  },
  {
   "cell_type": "code",
   "execution_count": 39,
   "id": "9e0acbb1",
   "metadata": {},
   "outputs": [
    {
     "name": "stdout",
     "output_type": "stream",
     "text": [
      "Duplicate Entries with Same Track Name and Artist:\n",
      "Empty DataFrame\n",
      "Columns: [track_name, track_artist]\n",
      "Index: []\n"
     ]
    }
   ],
   "source": [
    "#check if there are any duplicated elements in the dataset\n",
    "\n",
    "# Group the DataFrame by 'track_name' and 'track_artist', then filter for duplicates\n",
    "duplicate_entries = df.groupby(['track_name', 'track_artist']).filter(lambda x: len(x) > 1)\n",
    "\n",
    "# Display the duplicate entries\n",
    "print(\"Duplicate Entries with Same Track Name and Artist:\")\n",
    "print(duplicate_entries[['track_name', 'track_artist']].drop_duplicates())"
   ]
  },
  {
   "cell_type": "code",
   "execution_count": 40,
   "id": "447145d1",
   "metadata": {},
   "outputs": [
    {
     "name": "stdout",
     "output_type": "stream",
     "text": [
      "Total number of songs: 23965\n"
     ]
    }
   ],
   "source": [
    "#total number of songs after deleting the duplicated songs\n",
    "\n",
    "total_songs = len(df)\n",
    "print(\"Total number of songs:\", total_songs)"
   ]
  },
  {
   "cell_type": "code",
   "execution_count": null,
   "id": "19d744b0",
   "metadata": {},
   "outputs": [],
   "source": []
  }
 ],
 "metadata": {
  "kernelspec": {
   "display_name": "Python 3 (ipykernel)",
   "language": "python",
   "name": "python3"
  },
  "language_info": {
   "codemirror_mode": {
    "name": "ipython",
    "version": 3
   },
   "file_extension": ".py",
   "mimetype": "text/x-python",
   "name": "python",
   "nbconvert_exporter": "python",
   "pygments_lexer": "ipython3",
   "version": "3.11.5"
  }
 },
 "nbformat": 4,
 "nbformat_minor": 5
}
