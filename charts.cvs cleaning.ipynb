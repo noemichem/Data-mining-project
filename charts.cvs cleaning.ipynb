{
 "cells": [
  {
   "cell_type": "code",
   "execution_count": 5,
   "id": "cd20f340",
   "metadata": {},
   "outputs": [],
   "source": [
    "#visualize dataset 1\n",
    "import pandas as pd\n",
    "#songs with country\n",
    "file_path = \"charts.csv\"\n",
    "df = pd.read_csv(file_path)"
   ]
  },
  {
   "cell_type": "code",
   "execution_count": 6,
   "id": "0c74d1d8",
   "metadata": {},
   "outputs": [
    {
     "name": "stdout",
     "output_type": "stream",
     "text": [
      "                         title  rank        date  \\\n",
      "0      Chantaje (feat. Maluma)     1  2017-01-01   \n",
      "1  Vente Pa' Ca (feat. Maluma)     2  2017-01-01   \n",
      "2   Reggaetón Lento (Bailemos)     3  2017-01-01   \n",
      "3                       Safari     4  2017-01-01   \n",
      "4                  Shaky Shaky     5  2017-01-01   \n",
      "\n",
      "                                  artist  \\\n",
      "0                                Shakira   \n",
      "1                           Ricky Martin   \n",
      "2                                   CNCO   \n",
      "3  J Balvin, Pharrell Williams, BIA, Sky   \n",
      "4                           Daddy Yankee   \n",
      "\n",
      "                                                 url     region   chart  \\\n",
      "0  https://open.spotify.com/track/6mICuAdrwEjh6Y6...  Argentina  top200   \n",
      "1  https://open.spotify.com/track/7DM4BPaS7uofFul...  Argentina  top200   \n",
      "2  https://open.spotify.com/track/3AEZUABDXNtecAO...  Argentina  top200   \n",
      "3  https://open.spotify.com/track/6rQSrBHf7HlZjtc...  Argentina  top200   \n",
      "4  https://open.spotify.com/track/58IL315gMSTD37D...  Argentina  top200   \n",
      "\n",
      "           trend   streams  \n",
      "0  SAME_POSITION  253019.0  \n",
      "1        MOVE_UP  223988.0  \n",
      "2      MOVE_DOWN  210943.0  \n",
      "3  SAME_POSITION  173865.0  \n",
      "4        MOVE_UP  153956.0  \n"
     ]
    }
   ],
   "source": [
    "print (df.head())"
   ]
  },
  {
   "cell_type": "code",
   "execution_count": 7,
   "id": "9cd8e028",
   "metadata": {},
   "outputs": [
    {
     "name": "stdout",
     "output_type": "stream",
     "text": [
      "<class 'pandas.core.frame.DataFrame'>\n",
      "RangeIndex: 26173514 entries, 0 to 26173513\n",
      "Data columns (total 9 columns):\n",
      " #   Column   Dtype  \n",
      "---  ------   -----  \n",
      " 0   title    object \n",
      " 1   rank     int64  \n",
      " 2   date     object \n",
      " 3   artist   object \n",
      " 4   url      object \n",
      " 5   region   object \n",
      " 6   chart    object \n",
      " 7   trend    object \n",
      " 8   streams  float64\n",
      "dtypes: float64(1), int64(1), object(7)\n",
      "memory usage: 1.8+ GB\n",
      "None\n"
     ]
    }
   ],
   "source": [
    "print(df.info())"
   ]
  },
  {
   "cell_type": "code",
   "execution_count": 8,
   "id": "8eac0c6e",
   "metadata": {},
   "outputs": [
    {
     "name": "stdout",
     "output_type": "stream",
     "text": [
      "               rank       streams\n",
      "count  2.617351e+07  2.032190e+07\n",
      "mean   8.092314e+01  5.526131e+04\n",
      "std    5.918601e+01  2.095872e+05\n",
      "min    1.000000e+00  1.001000e+03\n",
      "25%    2.900000e+01  3.546000e+03\n",
      "50%    6.700000e+01  9.565000e+03\n",
      "75%    1.310000e+02  3.540900e+04\n",
      "max    2.000000e+02  1.974970e+07\n"
     ]
    }
   ],
   "source": [
    "print(df.describe())"
   ]
  },
  {
   "cell_type": "code",
   "execution_count": 9,
   "id": "943dc484",
   "metadata": {},
   "outputs": [],
   "source": [
    "#from the url I only take the last part: track_id\n",
    "df['url'] = df['url'].str.replace('https://open.spotify.com/track/', '', regex=False)"
   ]
  },
  {
   "cell_type": "code",
   "execution_count": 10,
   "id": "5281ffdd",
   "metadata": {},
   "outputs": [
    {
     "name": "stdout",
     "output_type": "stream",
     "text": [
      "                         title  rank        date  \\\n",
      "0      Chantaje (feat. Maluma)     1  2017-01-01   \n",
      "1  Vente Pa' Ca (feat. Maluma)     2  2017-01-01   \n",
      "2   Reggaetón Lento (Bailemos)     3  2017-01-01   \n",
      "3                       Safari     4  2017-01-01   \n",
      "4                  Shaky Shaky     5  2017-01-01   \n",
      "\n",
      "                                  artist                     url     region  \\\n",
      "0                                Shakira  6mICuAdrwEjh6Y6lroV2Kg  Argentina   \n",
      "1                           Ricky Martin  7DM4BPaS7uofFul3ywMe46  Argentina   \n",
      "2                                   CNCO  3AEZUABDXNtecAOSC1qTfo  Argentina   \n",
      "3  J Balvin, Pharrell Williams, BIA, Sky  6rQSrBHf7HlZjtcMZ4S4bO  Argentina   \n",
      "4                           Daddy Yankee  58IL315gMSTD37DOZPJ2hf  Argentina   \n",
      "\n",
      "    chart          trend   streams  \n",
      "0  top200  SAME_POSITION  253019.0  \n",
      "1  top200        MOVE_UP  223988.0  \n",
      "2  top200      MOVE_DOWN  210943.0  \n",
      "3  top200  SAME_POSITION  173865.0  \n",
      "4  top200        MOVE_UP  153956.0  \n"
     ]
    }
   ],
   "source": [
    "print(df.head())"
   ]
  },
  {
   "cell_type": "code",
   "execution_count": 11,
   "id": "fbe650c8",
   "metadata": {},
   "outputs": [],
   "source": [
    "df.rename(columns={'url': 'track_id'}, inplace=True)"
   ]
  },
  {
   "cell_type": "code",
   "execution_count": 12,
   "id": "e2aa327a",
   "metadata": {},
   "outputs": [
    {
     "name": "stdout",
     "output_type": "stream",
     "text": [
      "                         title  rank        date  \\\n",
      "0      Chantaje (feat. Maluma)     1  2017-01-01   \n",
      "1  Vente Pa' Ca (feat. Maluma)     2  2017-01-01   \n",
      "2   Reggaetón Lento (Bailemos)     3  2017-01-01   \n",
      "3                       Safari     4  2017-01-01   \n",
      "4                  Shaky Shaky     5  2017-01-01   \n",
      "\n",
      "                                  artist                track_id     region  \\\n",
      "0                                Shakira  6mICuAdrwEjh6Y6lroV2Kg  Argentina   \n",
      "1                           Ricky Martin  7DM4BPaS7uofFul3ywMe46  Argentina   \n",
      "2                                   CNCO  3AEZUABDXNtecAOSC1qTfo  Argentina   \n",
      "3  J Balvin, Pharrell Williams, BIA, Sky  6rQSrBHf7HlZjtcMZ4S4bO  Argentina   \n",
      "4                           Daddy Yankee  58IL315gMSTD37DOZPJ2hf  Argentina   \n",
      "\n",
      "    chart          trend   streams  \n",
      "0  top200  SAME_POSITION  253019.0  \n",
      "1  top200        MOVE_UP  223988.0  \n",
      "2  top200      MOVE_DOWN  210943.0  \n",
      "3  top200  SAME_POSITION  173865.0  \n",
      "4  top200        MOVE_UP  153956.0  \n"
     ]
    }
   ],
   "source": [
    "print(df.head())"
   ]
  },
  {
   "cell_type": "code",
   "execution_count": 14,
   "id": "06da2046",
   "metadata": {},
   "outputs": [
    {
     "name": "stdout",
     "output_type": "stream",
     "text": [
      "max streams:  19749704.0\n",
      "min streams:  1001.0\n"
     ]
    }
   ],
   "source": [
    "#I want to see the highest number of streams and the lowest\n",
    "max_streams = df['streams'].max()\n",
    "min_streams = df['streams'].min()\n",
    "\n",
    "print(\"max streams: \", max_streams)\n",
    "print(\"min streams: \", min_streams)"
   ]
  },
  {
   "cell_type": "code",
   "execution_count": 16,
   "id": "a612e659",
   "metadata": {},
   "outputs": [
    {
     "name": "stdout",
     "output_type": "stream",
     "text": [
      "                                    title  rank        date          artist  \\\n",
      "22999369                       Easy On Me     1  2021-10-15           Adele   \n",
      "17849245  All I Want for Christmas Is You     1  2020-12-24    Mariah Carey   \n",
      "17849246                   Last Christmas     2  2020-12-24           Wham!   \n",
      "16687378                  drivers license     1  2021-01-15  Olivia Rodrigo   \n",
      "16564161                  drivers license     1  2021-01-14  Olivia Rodrigo   \n",
      "\n",
      "                        track_id  region   chart          trend     streams  \n",
      "22999369  0gplL1WMoJ6iYaPgMCL0gX  Global  top200        MOVE_UP  19749704.0  \n",
      "17849245  0bYg9bo50gSsH3LtXe2SQn  Global  top200  SAME_POSITION  17223237.0  \n",
      "17849246  2FRnf9qhLbvw8fu4IBXx78  Global  top200  SAME_POSITION  15813799.0  \n",
      "16687378  7lPN2DXiMsVn7XUKtOW1CS  Global  top200  SAME_POSITION  13714177.0  \n",
      "16564161  7lPN2DXiMsVn7XUKtOW1CS  Global  top200  SAME_POSITION  13701177.0  \n"
     ]
    }
   ],
   "source": [
    "#show the first five more streamed songs\n",
    "df_sorted = df.sort_values(by='streams', ascending=False)\n",
    "\n",
    "top_5_songs = df_sorted.head(5)\n",
    "print(top_5_songs)"
   ]
  },
  {
   "cell_type": "code",
   "execution_count": 17,
   "id": "713d81b1",
   "metadata": {},
   "outputs": [
    {
     "name": "stdout",
     "output_type": "stream",
     "text": [
      "                                          title  rank        date  \\\n",
      "9935774                               VALENTINO   110  2019-12-21   \n",
      "21956183                             Without Me   178  2021-09-05   \n",
      "11073646                          Talk About It   156  2017-05-04   \n",
      "4545690                       Vuur Op Die Water   196  2019-05-01   \n",
      "17323077  Mistletoe And Holly - Remastered 1999   119  2020-12-19   \n",
      "\n",
      "                         artist                track_id                region  \\\n",
      "9935774                24kGoldn  6piAUJJQFD8oHDUr0b7l7q  United Arab Emirates   \n",
      "21956183                 Eminem  7lQ8MOhq6IN2w8EYcFNSUk             Lithuania   \n",
      "11073646  Mike Perry, Hot Shade  1XRTXNP8eLpWXfso8Q4dC5               Hungary   \n",
      "4545690                 Elandré  2bW96CDjgaLh6E3HM1Fv8r          South Africa   \n",
      "17323077          Frank Sinatra  7faDzZnZYqTyYThx2sbHVQ               Estonia   \n",
      "\n",
      "           chart      trend  streams  \n",
      "9935774   top200  MOVE_DOWN   1001.0  \n",
      "21956183  top200    MOVE_UP   1001.0  \n",
      "11073646  top200  NEW_ENTRY   1001.0  \n",
      "4545690   top200  NEW_ENTRY   1001.0  \n",
      "17323077  top200  NEW_ENTRY   1001.0  \n"
     ]
    }
   ],
   "source": [
    "#show the least five streamed songs\n",
    "df_sorted = df.sort_values(by='streams', ascending=True)\n",
    "\n",
    "top_5_songs = df_sorted.head(5)\n",
    "print(top_5_songs)"
   ]
  },
  {
   "cell_type": "code",
   "execution_count": 19,
   "id": "152cf155",
   "metadata": {},
   "outputs": [
    {
     "name": "stdout",
     "output_type": "stream",
     "text": [
      "['Argentina' 'Australia' 'Brazil' 'Austria' 'Belgium' 'Colombia' 'Bolivia'\n",
      " 'Denmark' 'Bulgaria' 'Canada' 'Chile' 'Costa Rica' 'Czech Republic'\n",
      " 'Finland' 'Dominican Republic' 'Ecuador' 'El Salvador' 'Estonia' 'France'\n",
      " 'Germany' 'Global' 'Greece' 'Guatemala' 'Honduras' 'Hong Kong' 'Hungary'\n",
      " 'Iceland' 'Indonesia' 'Ireland' 'Italy' 'Japan' 'Latvia' 'Lithuania'\n",
      " 'Malaysia' 'Luxembourg' 'Mexico' 'Netherlands' 'New Zealand' 'Nicaragua'\n",
      " 'Norway' 'Panama' 'Paraguay' 'Peru' 'Philippines' 'Poland' 'Portugal'\n",
      " 'Singapore' 'Spain' 'Slovakia' 'Sweden' 'Taiwan' 'Switzerland' 'Turkey'\n",
      " 'United Kingdom' 'United States' 'Uruguay' 'Thailand' 'Andorra' 'Romania'\n",
      " 'Vietnam' 'Egypt' 'India' 'Israel' 'Morocco' 'Saudi Arabia'\n",
      " 'South Africa' 'United Arab Emirates' 'Russia' 'Ukraine' 'South Korea']\n"
     ]
    }
   ],
   "source": [
    "#show all the regions present on this dataset\n",
    "regions = df['region'].unique()\n",
    "\n",
    "print(regions)"
   ]
  },
  {
   "cell_type": "code",
   "execution_count": 20,
   "id": "d2ca18dc",
   "metadata": {},
   "outputs": [
    {
     "name": "stdout",
     "output_type": "stream",
     "text": [
      "26173514\n"
     ]
    }
   ],
   "source": [
    "num_songs = len(df)\n",
    "print(num_songs)"
   ]
  },
  {
   "cell_type": "code",
   "execution_count": 22,
   "id": "10e233e6",
   "metadata": {},
   "outputs": [],
   "source": [
    "#I want to find a treshold for the streams: less than 20K streams is not important and can be deleted\n",
    "df_low_streams = df[df['streams'] >= 20000]"
   ]
  },
  {
   "cell_type": "code",
   "execution_count": 23,
   "id": "4a5f1bcf",
   "metadata": {},
   "outputs": [
    {
     "name": "stdout",
     "output_type": "stream",
     "text": [
      "                         title  rank        date  \\\n",
      "0      Chantaje (feat. Maluma)     1  2017-01-01   \n",
      "1  Vente Pa' Ca (feat. Maluma)     2  2017-01-01   \n",
      "2   Reggaetón Lento (Bailemos)     3  2017-01-01   \n",
      "3                       Safari     4  2017-01-01   \n",
      "4                  Shaky Shaky     5  2017-01-01   \n",
      "\n",
      "                                  artist                track_id     region  \\\n",
      "0                                Shakira  6mICuAdrwEjh6Y6lroV2Kg  Argentina   \n",
      "1                           Ricky Martin  7DM4BPaS7uofFul3ywMe46  Argentina   \n",
      "2                                   CNCO  3AEZUABDXNtecAOSC1qTfo  Argentina   \n",
      "3  J Balvin, Pharrell Williams, BIA, Sky  6rQSrBHf7HlZjtcMZ4S4bO  Argentina   \n",
      "4                           Daddy Yankee  58IL315gMSTD37DOZPJ2hf  Argentina   \n",
      "\n",
      "    chart          trend   streams  \n",
      "0  top200  SAME_POSITION  253019.0  \n",
      "1  top200        MOVE_UP  223988.0  \n",
      "2  top200      MOVE_DOWN  210943.0  \n",
      "3  top200  SAME_POSITION  173865.0  \n",
      "4  top200        MOVE_UP  153956.0  \n"
     ]
    }
   ],
   "source": [
    "print(df_low_streams.head())\n",
    "#N.B.: from now the dataset is df_low_streams"
   ]
  },
  {
   "cell_type": "code",
   "execution_count": 25,
   "id": "f559bb7c",
   "metadata": {},
   "outputs": [
    {
     "name": "stdout",
     "output_type": "stream",
     "text": [
      "                               title  rank        date  \\\n",
      "7883096                 La Despedida   192  2019-10-13   \n",
      "9804701   Fresh Prince (trill 4ever)   135  2020-01-21   \n",
      "7281160                    stukupuku   111  2019-09-14   \n",
      "11986479                  Solo Dance    77  2017-05-21   \n",
      "5886768                     Believer   169  2018-12-16   \n",
      "\n",
      "                                artist                track_id  region  \\\n",
      "7883096                           Cami  1s8TR4ZPyrRf0E7zbNNjvZ   Chile   \n",
      "9804701   Bedoes, Lanek, Malik Montana  12NVUrtVmL9B0gQ59mlOor  Poland   \n",
      "7281160                     chillwagon  25fiDfKeimedNSPNXrQYcY  Poland   \n",
      "11986479                 Martin Jensen  6HUnnBwYZqcED1eQztxMBN  Norway   \n",
      "5886768                Imagine Dragons  0pqnGHJpmpxLKifKRmU6WP   Chile   \n",
      "\n",
      "           chart    trend  streams  \n",
      "7883096   top200  MOVE_UP  20000.0  \n",
      "9804701   top200  MOVE_UP  20000.0  \n",
      "7281160   top200  MOVE_UP  20000.0  \n",
      "11986479  top200  MOVE_UP  20000.0  \n",
      "5886768   top200  MOVE_UP  20000.0  \n"
     ]
    }
   ],
   "source": [
    "#show the least five streamed songs\n",
    "df_sorted = df_low_streams.sort_values(by='streams', ascending=True)\n",
    "\n",
    "top_5_songs = df_sorted.head(5)\n",
    "print(top_5_songs)"
   ]
  },
  {
   "cell_type": "code",
   "execution_count": 26,
   "id": "87cadac1",
   "metadata": {},
   "outputs": [
    {
     "name": "stdout",
     "output_type": "stream",
     "text": [
      "7364159\n"
     ]
    }
   ],
   "source": [
    "print(len(df_low_streams))"
   ]
  },
  {
   "cell_type": "code",
   "execution_count": null,
   "id": "ee6a6d4f",
   "metadata": {},
   "outputs": [],
   "source": [
    "# from 26173514 songs to 7364159 songs"
   ]
  },
  {
   "cell_type": "code",
   "execution_count": 30,
   "id": "48e71699",
   "metadata": {},
   "outputs": [
    {
     "name": "stdout",
     "output_type": "stream",
     "text": [
      "                      title  rank        date          artist  \\\n",
      "22543035   Lance Individual   166  2021-09-13  Jorge & Mateus   \n",
      "15576530   Lance Individual    93  2021-07-12  Jorge & Mateus   \n",
      "19529049   Lance Individual    71  2021-06-14  Jorge & Mateus   \n",
      "20386133   Lance Individual    76  2021-06-23  Jorge & Mateus   \n",
      "22574186   Lance Individual   138  2021-08-10  Jorge & Mateus   \n",
      "...                     ...   ...         ...             ...   \n",
      "9532619   C'est pas des LOL   176  2020-02-13             Jul   \n",
      "10134604  C'est pas des LOL   163  2019-12-24             Jul   \n",
      "9041115   C'est pas des LOL   113  2020-01-13             Jul   \n",
      "7802353   C'est pas des LOL    85  2019-10-12             Jul   \n",
      "8474311   C'est pas des LOL    90  2019-10-20             Jul   \n",
      "\n",
      "                        track_id  region   chart      trend   streams  \n",
      "22543035  000RW47rhEkSqjgTrZx7YX  Brazil  top200  MOVE_DOWN  101215.0  \n",
      "15576530  000RW47rhEkSqjgTrZx7YX  Brazil  top200  MOVE_DOWN  145567.0  \n",
      "19529049  000RW47rhEkSqjgTrZx7YX  Brazil  top200  MOVE_DOWN  169366.0  \n",
      "20386133  000RW47rhEkSqjgTrZx7YX  Brazil  top200    MOVE_UP  168578.0  \n",
      "22574186  000RW47rhEkSqjgTrZx7YX  Brazil  top200  MOVE_DOWN  112981.0  \n",
      "...                          ...     ...     ...        ...       ...  \n",
      "9532619   7zzhknA0A39TH81meuX7WA  France  top200    MOVE_UP   41322.0  \n",
      "10134604  7zzhknA0A39TH81meuX7WA  France  top200  MOVE_DOWN   64171.0  \n",
      "9041115   7zzhknA0A39TH81meuX7WA  France  top200    MOVE_UP   49699.0  \n",
      "7802353   7zzhknA0A39TH81meuX7WA  France  top200    MOVE_UP   80252.0  \n",
      "8474311   7zzhknA0A39TH81meuX7WA  France  top200  MOVE_DOWN   61167.0  \n",
      "\n",
      "[7350269 rows x 9 columns]\n"
     ]
    }
   ],
   "source": [
    "#I want to see the songs with the same track id\n",
    "\n",
    "duplicated_tracks = df_low_streams[df_low_streams.duplicated('track_id', keep=False)]\n",
    "duplicated_tracks = duplicated_tracks.sort_values('track_id')\n",
    "print(duplicated_tracks)"
   ]
  },
  {
   "cell_type": "code",
   "execution_count": 37,
   "id": "dc59f950",
   "metadata": {},
   "outputs": [
    {
     "name": "stdout",
     "output_type": "stream",
     "text": [
      "                                         title  rank        date  \\\n",
      "19805751                      Lance Individual    14  2021-04-24   \n",
      "9937858   Still Got Time (feat. PARTYNEXTDOOR)    20  2017-04-05   \n",
      "11344453  Still Got Time (feat. PARTYNEXTDOOR)    53  2017-03-24   \n",
      "12099328  Still Got Time (feat. PARTYNEXTDOOR)    22  2017-03-29   \n",
      "11559401  Still Got Time (feat. PARTYNEXTDOOR)    34  2017-03-27   \n",
      "\n",
      "                  artist                track_id     region   chart  \\\n",
      "19805751  Jorge & Mateus  000RW47rhEkSqjgTrZx7YX     Brazil  top200   \n",
      "9937858             ZAYN  000xQL6tZNLJzIrtIgxqSl  Australia  top200   \n",
      "11344453            ZAYN  000xQL6tZNLJzIrtIgxqSl     Brazil  top200   \n",
      "12099328            ZAYN  000xQL6tZNLJzIrtIgxqSl     Canada  top200   \n",
      "11559401            ZAYN  000xQL6tZNLJzIrtIgxqSl    Denmark  top200   \n",
      "\n",
      "                  trend   streams  \n",
      "19805751  SAME_POSITION  714162.0  \n",
      "9937858   SAME_POSITION   89709.0  \n",
      "11344453      NEW_ENTRY   95760.0  \n",
      "12099328        MOVE_UP   91156.0  \n",
      "11559401        MOVE_UP   34229.0  \n"
     ]
    }
   ],
   "source": [
    "#if the same track id is also in the same country, I want to keep the one with the highest streams\n",
    "duplicated_rows = df_low_streams[df_low_streams.duplicated(['track_id', 'region'], keep=False)]\n",
    "max_streams_indices = duplicated_rows.groupby(['track_id', 'region'])['streams'].idxmax()\n",
    "# keep the highest num of streams\n",
    "filtered_df = df.loc[max_streams_indices]\n",
    "# keep non duplicated rows\n",
    "non_duplicated_df = df.drop_duplicates(['track_id', 'region'], keep=False)\n",
    "\n",
    "# combine the dataframe\n",
    "final_df = pd.concat([filtered_df, non_duplicated_df])\n",
    "\n",
    "print(final_df.head())"
   ]
  },
  {
   "cell_type": "code",
   "execution_count": 38,
   "id": "230baa2d",
   "metadata": {},
   "outputs": [
    {
     "name": "stdout",
     "output_type": "stream",
     "text": [
      "214575\n"
     ]
    }
   ],
   "source": [
    "print(len(final_df))"
   ]
  },
  {
   "cell_type": "code",
   "execution_count": 41,
   "id": "d2288d5f",
   "metadata": {},
   "outputs": [
    {
     "name": "stdout",
     "output_type": "stream",
     "text": [
      "                                         title        date          artist  \\\n",
      "19805751                      Lance Individual  2021-04-24  Jorge & Mateus   \n",
      "9937858   Still Got Time (feat. PARTYNEXTDOOR)  2017-04-05            ZAYN   \n",
      "11344453  Still Got Time (feat. PARTYNEXTDOOR)  2017-03-24            ZAYN   \n",
      "12099328  Still Got Time (feat. PARTYNEXTDOOR)  2017-03-29            ZAYN   \n",
      "11559401  Still Got Time (feat. PARTYNEXTDOOR)  2017-03-27            ZAYN   \n",
      "\n",
      "                        track_id     region   chart   streams  \n",
      "19805751  000RW47rhEkSqjgTrZx7YX     Brazil  top200  714162.0  \n",
      "9937858   000xQL6tZNLJzIrtIgxqSl  Australia  top200   89709.0  \n",
      "11344453  000xQL6tZNLJzIrtIgxqSl     Brazil  top200   95760.0  \n",
      "12099328  000xQL6tZNLJzIrtIgxqSl     Canada  top200   91156.0  \n",
      "11559401  000xQL6tZNLJzIrtIgxqSl    Denmark  top200   34229.0  \n"
     ]
    }
   ],
   "source": [
    "#since I'm taking in consideration only the streams, I can delete the field 'rank' and 'trend'\n",
    "final_df = final_df.drop(columns = ['trend'])\n",
    "print (final_df.head())\n",
    "#N.B: the dataset now is called final_df"
   ]
  },
  {
   "cell_type": "code",
   "execution_count": 46,
   "id": "7795e147",
   "metadata": {},
   "outputs": [
    {
     "name": "stdout",
     "output_type": "stream",
     "text": [
      "96653\n"
     ]
    }
   ],
   "source": [
    "songs = final_df['track_id'].unique()\n",
    "\n",
    "print(len(songs))"
   ]
  },
  {
   "cell_type": "code",
   "execution_count": 47,
   "id": "c6fcc4f7",
   "metadata": {},
   "outputs": [],
   "source": [
    "#now I'll save the new dataset\n",
    "output_path = 'modified_charts_unique.csv'\n",
    "final_df.to_csv(output_path, index=False)"
   ]
  },
  {
   "cell_type": "code",
   "execution_count": null,
   "id": "01a879e7",
   "metadata": {},
   "outputs": [],
   "source": []
  }
 ],
 "metadata": {
  "kernelspec": {
   "display_name": "Python 3 (ipykernel)",
   "language": "python",
   "name": "python3"
  },
  "language_info": {
   "codemirror_mode": {
    "name": "ipython",
    "version": 3
   },
   "file_extension": ".py",
   "mimetype": "text/x-python",
   "name": "python",
   "nbconvert_exporter": "python",
   "pygments_lexer": "ipython3",
   "version": "3.11.5"
  }
 },
 "nbformat": 4,
 "nbformat_minor": 5
}
